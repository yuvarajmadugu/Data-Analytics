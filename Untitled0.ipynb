{
  "nbformat": 4,
  "nbformat_minor": 0,
  "metadata": {
    "colab": {
      "provenance": [],
      "authorship_tag": "ABX9TyORJKHzj3jHAX0eF6XeJK43",
      "include_colab_link": true
    },
    "kernelspec": {
      "name": "python3",
      "display_name": "Python 3"
    },
    "language_info": {
      "name": "python"
    }
  },
  "cells": [
    {
      "cell_type": "markdown",
      "metadata": {
        "id": "view-in-github",
        "colab_type": "text"
      },
      "source": [
        "<a href=\"https://colab.research.google.com/github/yuvarajmadugu/Data-Analytics/blob/main/Untitled0.ipynb\" target=\"_parent\"><img src=\"https://colab.research.google.com/assets/colab-badge.svg\" alt=\"Open In Colab\"/></a>"
      ]
    },
    {
      "cell_type": "code",
      "execution_count": 2,
      "metadata": {
        "colab": {
          "base_uri": "https://localhost:8080/"
        },
        "id": "mampo7FVleQL",
        "outputId": "6f9c0027-6b8c-407e-8e3e-880de7dadeee"
      },
      "outputs": [
        {
          "output_type": "stream",
          "name": "stdout",
          "text": [
            "\n",
            "Cleaned Student Database:\n",
            "   Student_ID   Name  CGPA  Backlogs\n",
            "0         101  Alice   7.5         0\n",
            "1         104  David   5.9         2\n",
            "2         105    Eve   7.1         0\n",
            "3         106  Frank   6.5         1\n",
            "4         107  Grace   7.9         0\n"
          ]
        },
        {
          "output_type": "stream",
          "name": "stderr",
          "text": [
            "<ipython-input-2-aa28bfaff57b>:15: FutureWarning: A value is trying to be set on a copy of a DataFrame or Series through chained assignment using an inplace method.\n",
            "The behavior will change in pandas 3.0. This inplace method will never work because the intermediate object on which we are setting values always behaves as a copy.\n",
            "\n",
            "For example, when doing 'df[col].method(value, inplace=True)', try using 'df.method({col: value}, inplace=True)' or df[col] = df[col].method(value) instead, to perform the operation inplace on the original object.\n",
            "\n",
            "\n",
            "  df[\"CGPA\"].fillna(df[\"CGPA\"].mean(), inplace=True)\n"
          ]
        }
      ],
      "source": [
        "#EXPERIMENT NUMBER 1:\n",
        "\n",
        "import pandas as pd\n",
        "import numpy as np\n",
        "# Sample student database with missing CGPA values and redundancy\n",
        "data = {\n",
        "\"Student_ID\": [101, 102, 103, 104, 105, 106, 107, 108],\n",
        "\"Name\": [\"Alice\", \"Bob\", \"Charlie\", \"David\", \"Eve\", \"Frank\", \"Grace\", \"Hannah\"],\n",
        "\"CGPA\": [7.5, np.nan, 8.2, 5.9, 7.1, 6.5, 7.9, np.nan],\n",
        "\"Backlogs\": [0, 1, 0, 2, 0, 1, 0, 0]\n",
        "}\n",
        "# Convert data into a DataFrame\n",
        "df = pd.DataFrame(data)\n",
        "# 1. Adding a noisy value before handling missing values\n",
        "df.loc[2, \"CGPA\"] = 100 # Adding a noisy value for Charlie\n",
        "# 2. Handling Missing Values\n",
        "df[\"CGPA\"].fillna(df[\"CGPA\"].mean(), inplace=True)\n",
        "# 3. Noise Detection and Removal\n",
        "df = df[df[\"CGPA\"] <= 10] # Remove CGPA > 10 (invalid noise)\n",
        "# 4. Redundancy Elimination\n",
        "df = pd.concat([df, df.iloc[[0]]], ignore_index=True) # Adding a duplicate record for Alice\n",
        "df.drop_duplicates(keep=\"first\", inplace=True) # Removing duplicate rows\n",
        "# Output the final cleaned dataset\n",
        "print(\"\\nCleaned Student Database:\")\n",
        "print(df)"
      ]
    },
    {
      "cell_type": "code",
      "source": [
        "#EXPERIMENT NUMBER 2:\n",
        "\n",
        "# Step 1: Import Required Libraries\n",
        "import pandas as pd\n",
        "import numpy as np\n",
        "from sklearn.impute import KNNImputer\n",
        "\n",
        "# Step 2: Create a Sample Dataset with Missing Values\n",
        "data = {'Customer_ID': [101, 102, 103, 104, 105],\n",
        "        'Age': [25, np.nan, 30, np.nan, 40],  # Missing values\n",
        "        'Annual_Income': [40000, 50000, np.nan, 70000, 80000],  # Missing values\n",
        "        'Spending_Score': [60, 80, 75, 90, 50]}\n",
        "\n",
        "df = pd.DataFrame(data)\n",
        "\n",
        "# Display dataset before imputation\n",
        "print(\"Original Dataset with Missing Values:\\n\", df)\n",
        "\n",
        "# Step 3: Apply KNN Imputation\n",
        "knn_imputer = KNNImputer(n_neighbors=2)  # Using 2 nearest neighbors\n",
        "df[['Age', 'Annual_Income']] = knn_imputer.fit_transform(df[['Age', 'Annual_Income']])\n",
        "\n",
        "# Step 4: Display Dataset After Imputation\n",
        "print(\"\\nDataset after KNN Imputation:\\n\", df)\n",
        "\n",
        "# Step 5: Verify Missing Values\n",
        "print(\"\\nMissing Values Count After Imputation:\\n\", df.isnull().sum())\n"
      ],
      "metadata": {
        "colab": {
          "base_uri": "https://localhost:8080/"
        },
        "id": "z8LxWwlvlzAQ",
        "outputId": "8962fc00-ad26-4e94-a392-ddbed959eae7"
      },
      "execution_count": 3,
      "outputs": [
        {
          "output_type": "stream",
          "name": "stdout",
          "text": [
            "Original Dataset with Missing Values:\n",
            "    Customer_ID   Age  Annual_Income  Spending_Score\n",
            "0          101  25.0        40000.0              60\n",
            "1          102   NaN        50000.0              80\n",
            "2          103  30.0            NaN              75\n",
            "3          104   NaN        70000.0              90\n",
            "4          105  40.0        80000.0              50\n",
            "\n",
            "Dataset after KNN Imputation:\n",
            "    Customer_ID   Age  Annual_Income  Spending_Score\n",
            "0          101  25.0        40000.0              60\n",
            "1          102  32.5        50000.0              80\n",
            "2          103  30.0        60000.0              75\n",
            "3          104  32.5        70000.0              90\n",
            "4          105  40.0        80000.0              50\n",
            "\n",
            "Missing Values Count After Imputation:\n",
            " Customer_ID       0\n",
            "Age               0\n",
            "Annual_Income     0\n",
            "Spending_Score    0\n",
            "dtype: int64\n"
          ]
        }
      ]
    }
  ]
}